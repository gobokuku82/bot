{
 "cells": [
  {
   "cell_type": "code",
   "execution_count": 2,
   "metadata": {},
   "outputs": [
    {
     "name": "stdout",
     "output_type": "stream",
     "text": [
      "✅ 변환 완료: 전북특별자치도_진안군_지역화폐가맹점_20250128.csv → 지역화폐_가맹점_DB.db (진안군 테이블)\n"
     ]
    }
   ],
   "source": [
    "import os\n",
    "import sqlite3\n",
    "import pandas as pd\n",
    "\n",
    "def convert_csv_to_sqlite(csv_path: str, sqlite_path: str):\n",
    "    # CSV 파일 로드\n",
    "    df = pd.read_csv(csv_path)\n",
    "\n",
    "    # 주소 통합 처리 (둘 중 하나만 존재함)\n",
    "    df['주소'] = df['소재지도로명주소'].combine_first(df['소재지지번주소'])\n",
    "\n",
    "    # 사용하지 않는 주소 필드 제거\n",
    "    df.drop(columns=['소재지도로명주소', '소재지지번주소'], inplace=True)\n",
    "\n",
    "    # 테이블명 생성 (시군구명 기준)\n",
    "    if '시군구명' not in df.columns:\n",
    "        raise ValueError(\"CSV에 '시군구명' 컬럼이 존재하지 않습니다.\")\n",
    "    \n",
    "    table_name = df['시군구명'].iloc[0].strip().replace(\" \", \"\")\n",
    "    \n",
    "    # DB 연결 및 테이블 생성\n",
    "    conn = sqlite3.connect(sqlite_path)\n",
    "    cursor = conn.cursor()\n",
    "\n",
    "    # 테이블 생성 SQL\n",
    "    create_table_sql = f\"\"\"\n",
    "    CREATE TABLE IF NOT EXISTS [{table_name}] (\n",
    "        id INTEGER PRIMARY KEY AUTOINCREMENT,\n",
    "        가맹점명 TEXT,\n",
    "        사용가능지역화폐 TEXT,\n",
    "        시도명 TEXT,\n",
    "        시군구명 TEXT,\n",
    "        주소 TEXT,\n",
    "        업종명 TEXT,\n",
    "        주요상품 TEXT,\n",
    "        전화번호 TEXT,\n",
    "        데이터기준일자 TEXT\n",
    "    );\n",
    "    \"\"\"\n",
    "    cursor.execute(create_table_sql)\n",
    "\n",
    "    # 데이터 삽입\n",
    "    df.to_sql(table_name, conn, if_exists='append', index=False)\n",
    "\n",
    "    # 인덱스 생성\n",
    "    for column in ['가맹점명', '업종명', '주소']:\n",
    "        cursor.execute(f\"CREATE INDEX IF NOT EXISTS idx_{column} ON [{table_name}] ({column});\")\n",
    "\n",
    "    conn.commit()\n",
    "    conn.close()\n",
    "\n",
    "    print(f\"✅ 변환 완료: {csv_path} → {sqlite_path} ({table_name} 테이블)\")\n",
    "\n",
    "# 사용 예시\n",
    "convert_csv_to_sqlite(\"전북특별자치도_진안군_지역화폐가맹점_20250128.csv\", \"지역화폐_가맹점_DB.db\")\n"
   ]
  },
  {
   "cell_type": "code",
   "execution_count": null,
   "metadata": {},
   "outputs": [],
   "source": []
  }
 ],
 "metadata": {
  "kernelspec": {
   "display_name": "Python (RAGLLM)",
   "language": "python",
   "name": "ragllm"
  },
  "language_info": {
   "codemirror_mode": {
    "name": "ipython",
    "version": 3
   },
   "file_extension": ".py",
   "mimetype": "text/x-python",
   "name": "python",
   "nbconvert_exporter": "python",
   "pygments_lexer": "ipython3",
   "version": "3.10.16"
  }
 },
 "nbformat": 4,
 "nbformat_minor": 2
}
